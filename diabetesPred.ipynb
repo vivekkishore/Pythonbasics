{
 "cells": [
  {
   "cell_type": "code",
   "execution_count": null,
   "id": "8185a700",
   "metadata": {},
   "outputs": [],
   "source": [
    "import pandas as pd\n",
    "import numpy as np\n",
    "import matplotlib.pyplot as plt\n",
    "import seaborn\n",
    "import scikitplot\n",
    "\n",
    "from sklearn.linear_model import LogisticRegression\n",
    "from sklearn.ensemble import RandomForestClassifier\n",
    "from sklearn.tree import DecisionTreeClassifier\n",
    "from sklearn.naive_bayes import GaussianNB\n",
    "from sklearn.svm import SVC\n",
    "from sklearn.neighbors import KNeighborsClassifier\n",
    "\n",
    "from sklearn.model_selection import train_test_split\n",
    "from sklearn import preprocessing\n",
    "from sklearn.preprocessing import StandardScaler, MinMaxScaler\n",
    "\n",
    "from sklearn import metrics\n",
    "from sklearn.metrics import accuracy_score, roc_auc_score, confusion_matrix\n",
    "\n",
    "import warnings\n",
    "warnings.filterwarnings('ignore')\n",
    "\n",
    "%matplotlib inline\n",
    "from pylab import rcParams\n",
    "rcParams['figure.figsize'] = 10, 8\n",
    "\n",
    "diabetes_df=pd.read_csv('diabetes.csv')\n",
    "# diabetes_df.head()\n",
    "# diabetes_df.info()\n",
    "print(diabetes_df.describe())\n",
    "\n",
    "# seaborn.countplot(diabetes_df['Pregnancies']) # there are zero but doesn't seem outliers\n",
    "\n",
    "# seaborn.heatmap(diabetes_df.corr()) # not any clear corelation\n",
    "\n",
    "# seaborn.distplot(diabetes_df['BloodPressure']) \n",
    "\n",
    "# print(diabetes_df[diabetes_df['BloodPressure']==0].value_counts().sum()) # total 35 zero outliers\n",
    "\n",
    "# seaborn.distplot(diabetes_df['Glucose']) \n",
    "\n",
    "# print(diabetes_df[diabetes_df['Glucose']==0].value_counts().sum()) #total 5 zero outliers\n",
    "\n",
    "# diabetes_df['Glucose']=diabetes_df['Glucose'].replace(0,120.89)\n",
    "\n",
    "\n"
   ]
  },
  {
   "cell_type": "code",
   "execution_count": null,
   "id": "185ddbbc",
   "metadata": {},
   "outputs": [],
   "source": [
    "cols=['Glucose','BloodPressure','SkinThickness','Insulin','BMI','DiabetesPedigreeFunction']\n",
    "\n",
    "fig_subobj,axes=plt.subplots(2,3, figsize=(10,10))\n",
    "\n",
    "for i, col in enumerate(cols):\n",
    "    row=i//3\n",
    "    column=i%3\n",
    "    seaborn.displot(diabetes_df[col],kde=True, ax=axes[row,column]) # all six have zero outliers need to switch with median\n",
    "plt.show()\n",
    "\n",
    "\n"
   ]
  },
  {
   "cell_type": "code",
   "execution_count": null,
   "id": "42cfce02",
   "metadata": {},
   "outputs": [],
   "source": [
    "for col in cols:\n",
    "    print(f'Number of zeroes in {col}:', (diabetes_df[diabetes_df[col]==0]).value_counts().sum())"
   ]
  },
  {
   "cell_type": "code",
   "execution_count": null,
   "id": "11e7bba8",
   "metadata": {},
   "outputs": [],
   "source": [
    "for col in cols:\n",
    "    diabetes_df[col]=diabetes_df[col].replace(0,diabetes_df[col].median())\n",
    "    "
   ]
  },
  {
   "cell_type": "code",
   "execution_count": null,
   "id": "ac0c7214",
   "metadata": {},
   "outputs": [],
   "source": [
    "for col in cols:\n",
    "    print(f'Number of zeroes in {col}:', (diabetes_df[diabetes_df[col]==0]).value_counts().sum())"
   ]
  },
  {
   "cell_type": "code",
   "execution_count": null,
   "id": "b0b3f056",
   "metadata": {},
   "outputs": [],
   "source": [
    "X=diabetes_df.iloc[:,:8]\n",
    "Y=diabetes_df.iloc[:,8:]\n",
    "\n",
    "SScaler=StandardScaler()\n",
    "X=SScaler.fit_transform(X)\n",
    "\n",
    "X_train,X_test,Y_train,Y_test=train_test_split(X,Y,test_size=0.20,random_state=7)\n"
   ]
  },
  {
   "cell_type": "code",
   "execution_count": null,
   "id": "1ca9c0b6",
   "metadata": {},
   "outputs": [],
   "source": [
    "def model_results(model,Y_pred, Y_prob,class1_prob):\n",
    "    print('accuracy score:', accuracy_score(Y_test,Y_pred))\n",
    "    print('roc_auc_score is:', round(roc_auc_score(Y_test,class1_prob),5)) \n",
    "    scikitplot.metrics.plot_confusion_matrix(Y_test,Y_pred,normalize=True,figsize=(7,5))\n",
    "    scikitplot.estimators.plot_learning_curve(model,X_train,Y_train,figsize=(7,5))\n",
    "    scikitplot.metrics.plot_roc_curve(Y_test,Y_prob,curves=['each_class'],figsize=(7,5))\n",
    "    \n",
    "    \n",
    "    \n",
    "    \n",
    "    "
   ]
  },
  {
   "cell_type": "code",
   "execution_count": null,
   "id": "76e38238",
   "metadata": {},
   "outputs": [],
   "source": [
    "logistic_regression=LogisticRegression()\n",
    "logistic_regression.fit(X_train,Y_train)\n",
    "Y_pred=logistic_regression.predict(X_test)\n",
    "Y_prob=logistic_regression.predict_proba(X_test)\n",
    "class1_prob=list()\n",
    "for i in Y_prob:\n",
    "    class1_prob.append(i[1])\n",
    "\n",
    "model_results(logistic_regression,Y_pred,Y_prob,class1_prob)\n",
    "\n"
   ]
  },
  {
   "cell_type": "code",
   "execution_count": null,
   "id": "9417bbf7",
   "metadata": {},
   "outputs": [],
   "source": [
    "logistic_regression1 = LogisticRegression(penalty='l1', solver='liblinear', class_weight='balanced')\n",
    "logistic_regression1.fit(X_train,Y_train)\n",
    "Y_pred=logistic_regression1.predict(X_test)\n",
    "Y_prob=logistic_regression1.predict_proba(X_test)\n",
    "class1_prob=list()\n",
    "for i in Y_prob:\n",
    "    class1_prob.append(i[1])\n",
    "\n",
    "model_results(logistic_regression1,Y_pred,Y_prob,class1_prob)\n"
   ]
  },
  {
   "cell_type": "code",
   "execution_count": null,
   "id": "11638d96",
   "metadata": {},
   "outputs": [],
   "source": [
    "Randomforest=RandomForestClassifier()\n",
    "Randomforest.fit(X_train,Y_train)\n",
    "Y_pred=Randomforest.predict(X_test)\n",
    "class1_prob=list()\n",
    "for i in Y_prob:\n",
    "    class1_prob.append(i[1])\n",
    "\n",
    "model_results(Randomforest,Y_pred,Y_prob,class1_prob)"
   ]
  },
  {
   "cell_type": "code",
   "execution_count": null,
   "id": "79b0e6da",
   "metadata": {},
   "outputs": [],
   "source": [
    "Decision_tree=DecisionTreeClassifier()\n",
    "Decision_tree.fit(X_train,Y_train)\n",
    "Y_pred=Decision_tree.predict(X_test)\n",
    "class1_prob=list()\n",
    "for i in Y_prob:\n",
    "    class1_prob.append(i[1])\n",
    "\n",
    "model_results(Decision_tree,Y_pred,Y_prob,class1_prob)\n"
   ]
  },
  {
   "cell_type": "code",
   "execution_count": null,
   "id": "b54684a1",
   "metadata": {},
   "outputs": [],
   "source": [
    "Gaus=GaussianNB()\n",
    "Gaus.fit(X_train,Y_train)\n",
    "Y_pred=Gaus.predict(X_test)\n",
    "class1_prob=list()\n",
    "for i in Y_prob:\n",
    "    class1_prob.append(i[1])\n",
    "\n",
    "model_results(Gaus,Y_pred,Y_prob,class1_prob)"
   ]
  },
  {
   "cell_type": "code",
   "execution_count": null,
   "id": "3a7d76ab",
   "metadata": {},
   "outputs": [],
   "source": [
    "Knbrs=KNeighborsClassifier()\n",
    "Knbrs.fit(X_train,Y_train)\n",
    "Y_pred=Knbrs.predict(X_test)\n",
    "class1_prob=list()\n",
    "for i in Y_prob:\n",
    "    class1_prob.append(i[1])\n",
    "\n",
    "model_results(Knbrs,Y_pred,Y_prob,class1_prob)"
   ]
  },
  {
   "cell_type": "code",
   "execution_count": null,
   "id": "b7b536c1",
   "metadata": {},
   "outputs": [],
   "source": [
    "Decision_svc=SVC(kernel='rbf')\n",
    "Decision_svc.fit(X_train,Y_train)\n",
    "Y_pred=Decision_svc.predict(X_test)\n",
    "class1_prob=list()\n",
    "for i in Y_prob:\n",
    "    class1_prob.append(i[1])\n",
    "\n",
    "model_results(Decision_svc,Y_pred,Y_prob,class1_prob)"
   ]
  },
  {
   "cell_type": "code",
   "execution_count": null,
   "id": "323f2fdd",
   "metadata": {},
   "outputs": [],
   "source": [
    "Randomforest1=RandomForestClassifier(max_depth=5, n_estimators=100, max_features=8)\n",
    "Randomforest1.fit(X_train,Y_train)\n",
    "Y_pred=Randomforest1.predict(X_test)\n",
    "class1_prob=list()\n",
    "for i in Y_prob:\n",
    "    class1_prob.append(i[1])\n",
    "\n",
    "model_results(Randomforest1,Y_pred,Y_prob,class1_prob)"
   ]
  },
  {
   "cell_type": "code",
   "execution_count": null,
   "id": "b3416970",
   "metadata": {},
   "outputs": [],
   "source": []
  },
  {
   "cell_type": "code",
   "execution_count": null,
   "id": "bc2e6ef4",
   "metadata": {},
   "outputs": [],
   "source": []
  }
 ],
 "metadata": {
  "kernelspec": {
   "display_name": "Python 3 (ipykernel)",
   "language": "python",
   "name": "python3"
  },
  "language_info": {
   "codemirror_mode": {
    "name": "ipython",
    "version": 3
   },
   "file_extension": ".py",
   "mimetype": "text/x-python",
   "name": "python",
   "nbconvert_exporter": "python",
   "pygments_lexer": "ipython3",
   "version": "3.9.13"
  }
 },
 "nbformat": 4,
 "nbformat_minor": 5
}
