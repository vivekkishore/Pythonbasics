{
 "cells": [
  {
   "cell_type": "code",
   "execution_count": 24,
   "id": "f3a54309",
   "metadata": {},
   "outputs": [
    {
     "data": {
      "text/plain": [
       "'The,Vikram,Sarabhai,Space,Centre,is,a,space,research,Centre,of,the,ISRO,,focused,on,rocket,and,space,vehicles'"
      ]
     },
     "execution_count": 24,
     "metadata": {},
     "output_type": "execute_result"
    }
   ],
   "source": [
    "text1=\"The Vikram Sarabhai Space Centre is a space research Centre of the ISRO, focused on rocket and space vehicles\"\n",
    "len(text1)\n",
    "words=text1.split(' ')\n",
    "len(words)\n",
    "type(words)\n",
    "# print(text1[4:10])    Vikram\n",
    "# print('z' in text1)   False\n",
    "# text1.isalpha()\n",
    "# text1.isalnum()\n",
    "# text1.isdigit()\n",
    "# text1.isdecimal()\n",
    "# text1.istitle()\n",
    "# text1.islower()\n",
    "# ram='Ram'\n",
    "# ram.istitle()\n",
    "# ram.islower()\n",
    "# ram.isalpha()\n",
    "# ram.isalnum()\n",
    "\n",
    "# [wordcap for wordcap in words if wordcap.istitle()]\n",
    "# g1uj=[wordg for wordg in words if len(wordg)>5]\n",
    "\n",
    "# text1=text1.casefold() - normalize like lower , more aggresive\n",
    "# text1.count('S')\n",
    "# text2=text1.replace('S','dd')\n",
    "# text1.find('s')\n",
    "# text1.rfind()\n",
    "# text=text1.splitlines() - split and create list, the ones separated by newlines\n",
    "# text1.index('s') \n",
    "# text1.lstrip('The') - to remove first occurance\n",
    "','.join(words)\n"
   ]
  },
  {
   "cell_type": "code",
   "execution_count": 42,
   "id": "68a0998a",
   "metadata": {},
   "outputs": [
    {
     "data": {
      "text/plain": [
       "['#datascience', '#python', '#machinelearning']"
      ]
     },
     "execution_count": 42,
     "metadata": {},
     "output_type": "execute_result"
    }
   ],
   "source": [
    "import re\n",
    "\n",
    "text2 = \"This news article is published on month:Jan\"\n",
    "\n",
    "# matchset=re.search(r'month:\\w\\w\\w',text2)\n",
    "# if(matchset):\n",
    "#     print('Found', matchset.group())\n",
    "# else:\n",
    "#     print('Patter not available')\n",
    "\n",
    "text1='abcdef'\n",
    "\n",
    "matchset=re.search(r'abcd\\w',text1)\n",
    "matchset.group()\n",
    "\n",
    "matchresult=re.search(r'abc+','abcccdee') # * for >=0, + for >=1, ? for zero or one\n",
    "matchresult.group()\n",
    "\n",
    "tweet = 'I am learning #datascience and it is awesome.#python #machinelearning'\n",
    "\n",
    "matchset1=re.findall(r'#\\w+',tweet)\n",
    "matchset1\n",
    "\n"
   ]
  },
  {
   "cell_type": "code",
   "execution_count": 18,
   "id": "cf82ef59",
   "metadata": {},
   "outputs": [
    {
     "data": {
      "text/plain": [
       "['brought', 'because', 'brother', 'hundred', 'Pharaoh', 'Abraham']"
      ]
     },
     "execution_count": 18,
     "metadata": {},
     "output_type": "execute_result"
    }
   ],
   "source": [
    "import nltk\n",
    "# nltk.download()\n",
    "from nltk.book import*\n",
    "\n",
    "len(text3)\n",
    "len(set(text3))\n",
    "freqcount=FreqDist(text3)\n",
    "vocabulary=freqcount.keys()\n",
    "freqcount['The']\n",
    "[word for word in vocabulary if len(word)==7 and freqcount[word]>=50]\n",
    "\n",
    "\n",
    "\n"
   ]
  },
  {
   "cell_type": "code",
   "execution_count": 32,
   "id": "7657870d",
   "metadata": {},
   "outputs": [
    {
     "name": "stdout",
     "output_type": "stream",
     "text": [
      "[ 4  7 10 16 19 22 28 31 34 40 43 46 52 55 58]\n",
      "[ 1 13 25 37 49]\n",
      "[ 1  4  7 10 13 16 19 22 25 28 31 34 37 40 43 46 49 52 55 58]\n",
      "[ 1  5  9 13 17 21 25 29 33 37 41 45 49 53 57 61 65 69 73 77]\n"
     ]
    }
   ],
   "source": [
    "import numpy\n",
    "array1 = numpy.arange(1,60,3)\n",
    "array2 = numpy.arange(1,80,4)\n",
    "\n",
    "numpy.sum(array1)\n",
    "numpy.cumsum(array1)\n",
    "numpy.prod(array1)\n",
    "numpy.cumprod(array1)\n",
    "# print(numpy.union1d(array1,array2))\n",
    "\n",
    "print(numpy.setdiff1d(array1,array2))\n",
    "print(numpy.intersect1d(array1,array2))\n",
    "print(array1)\n",
    "print(array2)"
   ]
  },
  {
   "cell_type": "code",
   "execution_count": null,
   "id": "32f53ada",
   "metadata": {},
   "outputs": [],
   "source": []
  }
 ],
 "metadata": {
  "kernelspec": {
   "display_name": "Python 3 (ipykernel)",
   "language": "python",
   "name": "python3"
  },
  "language_info": {
   "codemirror_mode": {
    "name": "ipython",
    "version": 3
   },
   "file_extension": ".py",
   "mimetype": "text/x-python",
   "name": "python",
   "nbconvert_exporter": "python",
   "pygments_lexer": "ipython3",
   "version": "3.9.13"
  }
 },
 "nbformat": 4,
 "nbformat_minor": 5
}
