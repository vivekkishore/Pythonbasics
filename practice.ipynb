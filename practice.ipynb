{
 "cells": [
  {
   "cell_type": "code",
   "execution_count": 1,
   "id": "0f2fbf40",
   "metadata": {},
   "outputs": [
    {
     "name": "stdout",
     "output_type": "stream",
     "text": [
      "Python 3.9.13\n"
     ]
    }
   ],
   "source": [
    "!python --version"
   ]
  },
  {
   "cell_type": "code",
   "execution_count": 2,
   "id": "16819279",
   "metadata": {},
   "outputs": [
    {
     "data": {
      "text/plain": [
       "1.4"
      ]
     },
     "execution_count": 2,
     "metadata": {},
     "output_type": "execute_result"
    }
   ],
   "source": [
    "7/5"
   ]
  },
  {
   "cell_type": "code",
   "execution_count": 3,
   "id": "06bf5b0e",
   "metadata": {},
   "outputs": [
    {
     "data": {
      "text/plain": [
       "1"
      ]
     },
     "execution_count": 3,
     "metadata": {},
     "output_type": "execute_result"
    }
   ],
   "source": [
    "7//5"
   ]
  },
  {
   "cell_type": "code",
   "execution_count": 4,
   "id": "832cc33e",
   "metadata": {},
   "outputs": [
    {
     "data": {
      "text/plain": [
       "28"
      ]
     },
     "execution_count": 4,
     "metadata": {},
     "output_type": "execute_result"
    }
   ],
   "source": [
    "7*4"
   ]
  },
  {
   "cell_type": "code",
   "execution_count": 5,
   "id": "e70727b4",
   "metadata": {},
   "outputs": [
    {
     "data": {
      "text/plain": [
       "16"
      ]
     },
     "execution_count": 5,
     "metadata": {},
     "output_type": "execute_result"
    }
   ],
   "source": [
    "2**4"
   ]
  },
  {
   "cell_type": "code",
   "execution_count": 6,
   "id": "aec8a670",
   "metadata": {},
   "outputs": [
    {
     "data": {
      "text/plain": [
       "1"
      ]
     },
     "execution_count": 6,
     "metadata": {},
     "output_type": "execute_result"
    }
   ],
   "source": [
    "5%2"
   ]
  },
  {
   "cell_type": "code",
   "execution_count": 7,
   "id": "d1a7aa2b",
   "metadata": {},
   "outputs": [
    {
     "data": {
      "text/plain": [
       "2.0"
      ]
     },
     "execution_count": 7,
     "metadata": {},
     "output_type": "execute_result"
    }
   ],
   "source": [
    "10/5"
   ]
  },
  {
   "cell_type": "code",
   "execution_count": 8,
   "id": "f2dc3b4a",
   "metadata": {},
   "outputs": [
    {
     "data": {
      "text/plain": [
       "2"
      ]
     },
     "execution_count": 8,
     "metadata": {},
     "output_type": "execute_result"
    }
   ],
   "source": [
    "10//5"
   ]
  },
  {
   "cell_type": "code",
   "execution_count": 9,
   "id": "b99603b1",
   "metadata": {},
   "outputs": [
    {
     "data": {
      "text/plain": [
       "1"
      ]
     },
     "execution_count": 9,
     "metadata": {},
     "output_type": "execute_result"
    }
   ],
   "source": [
    "13%4"
   ]
  },
  {
   "cell_type": "code",
   "execution_count": 10,
   "id": "dfc60f72",
   "metadata": {},
   "outputs": [
    {
     "name": "stdout",
     "output_type": "stream",
     "text": [
      "Hello man!\n",
      "Hello man!\n",
      "Hello man!\n",
      "Hello man!\n",
      "Hello' man!\n",
      "Hello \n",
      "man!\n",
      "Hello \n",
      " man!\n"
     ]
    }
   ],
   "source": [
    "print(\"Hello man!\")\n",
    "print('Hello man!')\n",
    "print(\"\"\"Hello man!\"\"\")\n",
    "print('''Hello man!''')\n",
    "print('Hello\\' man!')\n",
    "print(\"\"\"Hello \n",
    "man!\"\"\")\n",
    "print('Hello \\n man!')"
   ]
  },
  {
   "cell_type": "code",
   "execution_count": 11,
   "id": "5ca0959d",
   "metadata": {},
   "outputs": [
    {
     "name": "stdout",
     "output_type": "stream",
     "text": [
      "This is\n",
      "a very\n",
      "long string\n"
     ]
    }
   ],
   "source": [
    "print(\"\"\"This is\n",
    "a very\n",
    "long string\"\"\")"
   ]
  },
  {
   "cell_type": "code",
   "execution_count": 12,
   "id": "bc6d7b71",
   "metadata": {},
   "outputs": [
    {
     "ename": "SyntaxError",
     "evalue": "EOL while scanning string literal (3292705291.py, line 1)",
     "output_type": "error",
     "traceback": [
      "\u001b[1;36m  File \u001b[1;32m\"C:\\Users\\vivek.kishore\\AppData\\Local\\Temp\\ipykernel_10068\\3292705291.py\"\u001b[1;36m, line \u001b[1;32m1\u001b[0m\n\u001b[1;33m    print('This is\u001b[0m\n\u001b[1;37m                  ^\u001b[0m\n\u001b[1;31mSyntaxError\u001b[0m\u001b[1;31m:\u001b[0m EOL while scanning string literal\n"
     ]
    }
   ],
   "source": [
    "print('This is\n",
    "      very long string')"
   ]
  },
  {
   "cell_type": "code",
   "execution_count": 13,
   "id": "5d728a2f",
   "metadata": {},
   "outputs": [
    {
     "ename": "SyntaxError",
     "evalue": "invalid syntax (2088603220.py, line 1)",
     "output_type": "error",
     "traceback": [
      "\u001b[1;36m  File \u001b[1;32m\"C:\\Users\\vivek.kishore\\AppData\\Local\\Temp\\ipykernel_10068\\2088603220.py\"\u001b[1;36m, line \u001b[1;32m1\u001b[0m\n\u001b[1;33m    len(Hello world!)\u001b[0m\n\u001b[1;37m              ^\u001b[0m\n\u001b[1;31mSyntaxError\u001b[0m\u001b[1;31m:\u001b[0m invalid syntax\n"
     ]
    }
   ],
   "source": [
    "len(Hello world!)\n"
   ]
  },
  {
   "cell_type": "code",
   "execution_count": 14,
   "id": "99b8fce2",
   "metadata": {},
   "outputs": [
    {
     "data": {
      "text/plain": [
       "12"
      ]
     },
     "execution_count": 14,
     "metadata": {},
     "output_type": "execute_result"
    }
   ],
   "source": [
    "len('Hello world!')"
   ]
  },
  {
   "cell_type": "code",
   "execution_count": 15,
   "id": "f287c156",
   "metadata": {},
   "outputs": [
    {
     "ename": "NameError",
     "evalue": "name 'concat' is not defined",
     "output_type": "error",
     "traceback": [
      "\u001b[1;31m---------------------------------------------------------------------------\u001b[0m",
      "\u001b[1;31mNameError\u001b[0m                                 Traceback (most recent call last)",
      "\u001b[1;32m~\\AppData\\Local\\Temp\\ipykernel_10068\\4102690845.py\u001b[0m in \u001b[0;36m<module>\u001b[1;34m\u001b[0m\n\u001b[1;32m----> 1\u001b[1;33m \u001b[0mconcat\u001b[0m\u001b[1;33m(\u001b[0m\u001b[1;34m'ram'\u001b[0m\u001b[1;33m,\u001b[0m\u001b[1;34m'anand'\u001b[0m\u001b[1;33m)\u001b[0m\u001b[1;33m\u001b[0m\u001b[1;33m\u001b[0m\u001b[0m\n\u001b[0m",
      "\u001b[1;31mNameError\u001b[0m: name 'concat' is not defined"
     ]
    }
   ],
   "source": [
    "concat('ram','anand')"
   ]
  },
  {
   "cell_type": "code",
   "execution_count": 16,
   "id": "e61204f7",
   "metadata": {},
   "outputs": [
    {
     "data": {
      "text/plain": [
       "'ramanand'"
      ]
     },
     "execution_count": 16,
     "metadata": {},
     "output_type": "execute_result"
    }
   ],
   "source": [
    "'ram'+'anand'"
   ]
  },
  {
   "cell_type": "code",
   "execution_count": 17,
   "id": "c3611960",
   "metadata": {},
   "outputs": [
    {
     "ename": "NameError",
     "evalue": "name 'ram' is not defined",
     "output_type": "error",
     "traceback": [
      "\u001b[1;31m---------------------------------------------------------------------------\u001b[0m",
      "\u001b[1;31mNameError\u001b[0m                                 Traceback (most recent call last)",
      "\u001b[1;32m~\\AppData\\Local\\Temp\\ipykernel_10068\\1256673325.py\u001b[0m in \u001b[0;36m<module>\u001b[1;34m\u001b[0m\n\u001b[1;32m----> 1\u001b[1;33m \u001b[0mram\u001b[0m\u001b[1;33m+\u001b[0m\u001b[0manand\u001b[0m\u001b[1;33m\u001b[0m\u001b[1;33m\u001b[0m\u001b[0m\n\u001b[0m",
      "\u001b[1;31mNameError\u001b[0m: name 'ram' is not defined"
     ]
    }
   ],
   "source": [
    "ram+anand"
   ]
  },
  {
   "cell_type": "code",
   "execution_count": 18,
   "id": "205ffd17",
   "metadata": {},
   "outputs": [
    {
     "data": {
      "text/plain": [
       "'ramanand'"
      ]
     },
     "execution_count": 18,
     "metadata": {},
     "output_type": "execute_result"
    }
   ],
   "source": [
    "\"\"\"ram\"\"\"+\"\"\"anand\"\"\""
   ]
  },
  {
   "cell_type": "code",
   "execution_count": 19,
   "id": "1fc14398",
   "metadata": {},
   "outputs": [
    {
     "ename": "NameError",
     "evalue": "name 'Hello' is not defined",
     "output_type": "error",
     "traceback": [
      "\u001b[1;31m---------------------------------------------------------------------------\u001b[0m",
      "\u001b[1;31mNameError\u001b[0m                                 Traceback (most recent call last)",
      "\u001b[1;32m~\\AppData\\Local\\Temp\\ipykernel_10068\\1504979798.py\u001b[0m in \u001b[0;36m<module>\u001b[1;34m\u001b[0m\n\u001b[1;32m----> 1\u001b[1;33m \u001b[0mtype\u001b[0m\u001b[1;33m(\u001b[0m\u001b[0mHello\u001b[0m\u001b[1;33m)\u001b[0m\u001b[1;33m\u001b[0m\u001b[1;33m\u001b[0m\u001b[0m\n\u001b[0m",
      "\u001b[1;31mNameError\u001b[0m: name 'Hello' is not defined"
     ]
    }
   ],
   "source": [
    "type(Hello)"
   ]
  },
  {
   "cell_type": "code",
   "execution_count": 20,
   "id": "726f9121",
   "metadata": {},
   "outputs": [
    {
     "data": {
      "text/plain": [
       "str"
      ]
     },
     "execution_count": 20,
     "metadata": {},
     "output_type": "execute_result"
    }
   ],
   "source": [
    "type(\"Hello\")"
   ]
  },
  {
   "cell_type": "code",
   "execution_count": 22,
   "id": "0d677065",
   "metadata": {},
   "outputs": [
    {
     "data": {
      "text/plain": [
       "complex"
      ]
     },
     "execution_count": 22,
     "metadata": {},
     "output_type": "execute_result"
    }
   ],
   "source": [
    "type('Hello')\n",
    "type(5)\n",
    "type(5.6)\n",
    "type(-4)\n",
    "type(True)\n",
    "type(6j)\n"
   ]
  },
  {
   "cell_type": "code",
   "execution_count": 64,
   "id": "d648ae0d",
   "metadata": {},
   "outputs": [
    {
     "name": "stdout",
     "output_type": "stream",
     "text": [
      "<class 'str'>\n",
      "<class 'int'>\n",
      "<class 'float'>\n",
      "<class 'int'>\n",
      "<class 'bool'>\n"
     ]
    },
    {
     "data": {
      "text/plain": [
       "complex"
      ]
     },
     "execution_count": 64,
     "metadata": {},
     "output_type": "execute_result"
    }
   ],
   "source": [
    "print(type('Hello'))\n",
    "print(type(5))\n",
    "print(type(5.6))\n",
    "print(type(-4))\n",
    "print(type(True))\n",
    "(type(6j))\n"
   ]
  },
  {
   "cell_type": "code",
   "execution_count": 24,
   "id": "29e8a170",
   "metadata": {},
   "outputs": [
    {
     "name": "stdout",
     "output_type": "stream",
     "text": [
      "<class 'str'>\n"
     ]
    }
   ],
   "source": [
    "a=type('Hello')\n",
    "print(a)"
   ]
  },
  {
   "cell_type": "code",
   "execution_count": 29,
   "id": "e3a3b5b3",
   "metadata": {},
   "outputs": [
    {
     "ename": "NameError",
     "evalue": "name 'avg' is not defined",
     "output_type": "error",
     "traceback": [
      "\u001b[1;31m---------------------------------------------------------------------------\u001b[0m",
      "\u001b[1;31mNameError\u001b[0m                                 Traceback (most recent call last)",
      "\u001b[1;32m~\\AppData\\Local\\Temp\\ipykernel_10068\\1286490407.py\u001b[0m in \u001b[0;36m<module>\u001b[1;34m\u001b[0m\n\u001b[1;32m----> 1\u001b[1;33m \u001b[0mavg\u001b[0m\u001b[1;33m(\u001b[0m\u001b[1;36m4\u001b[0m\u001b[1;33m,\u001b[0m\u001b[1;36m7\u001b[0m\u001b[1;33m,\u001b[0m\u001b[1;36m23\u001b[0m\u001b[1;33m,\u001b[0m\u001b[1;36m56\u001b[0m\u001b[1;33m,\u001b[0m\u001b[1;36m57\u001b[0m\u001b[1;33m)\u001b[0m\u001b[1;33m\u001b[0m\u001b[1;33m\u001b[0m\u001b[0m\n\u001b[0m",
      "\u001b[1;31mNameError\u001b[0m: name 'avg' is not defined"
     ]
    }
   ],
   "source": [
    "avg(4,7,23,56,57)"
   ]
  },
  {
   "cell_type": "code",
   "execution_count": 39,
   "id": "699471b3",
   "metadata": {},
   "outputs": [
    {
     "data": {
      "text/plain": [
       "5.916079783099616"
      ]
     },
     "execution_count": 39,
     "metadata": {},
     "output_type": "execute_result"
    }
   ],
   "source": [
    "import math\n",
    "math.sqrt(35)\n",
    "#help(math)"
   ]
  },
  {
   "cell_type": "code",
   "execution_count": 45,
   "id": "fc703751",
   "metadata": {},
   "outputs": [
    {
     "name": "stdout",
     "output_type": "stream",
     "text": [
      "100\n",
      "100\n",
      "my saving is: 100\n",
      "I saved 100 rupees!\n",
      "I saved 100 rupees!\n",
      "I saved 100 \n",
      " rupees!\n",
      "I saved 100 \t rupees!\n"
     ]
    }
   ],
   "source": [
    "salary=200;\n",
    "expense=100\n",
    "saving=salary-expense\n",
    "print(saving)\n",
    "print(salary-expense)\n",
    "print(\"my saving is:\", saving)\n",
    "print(f'I saved {saving} rupees!')\n",
    "print('I saved {} rupees!'.format(saving))\n",
    "print(f'I saved {saving} \\n rupees!')\n",
    "print(f'I saved {saving} \\t rupees!')\n"
   ]
  },
  {
   "cell_type": "code",
   "execution_count": 59,
   "id": "07f35f95",
   "metadata": {},
   "outputs": [
    {
     "name": "stdout",
     "output_type": "stream",
     "text": [
      "True\n",
      "False\n",
      "False\n",
      "True\n",
      "False True\n",
      "False\n",
      "x is False and y is True\n",
      "x or y is True\n"
     ]
    }
   ],
   "source": [
    "x=True\n",
    "y=False\n",
    "print(x or y)\n",
    "print(x and y)\n",
    "print(not x)\n",
    "print(not y)\n",
    "x=not x\n",
    "y=not y\n",
    "print(x,y)\n",
    "type(True)\n",
    "z=x+y\n",
    "print(x)\n",
    "print(f\"x is {x} and y is {y}\")\n",
    "print(\"x or y is\", x or y)\n"
   ]
  },
  {
   "cell_type": "code",
   "execution_count": 65,
   "id": "fe10f637",
   "metadata": {},
   "outputs": [
    {
     "name": "stdout",
     "output_type": "stream",
     "text": [
      "python is  awesome\n"
     ]
    }
   ],
   "source": [
    "x=\"awesome\"\n",
    "print(\"python is \",x)"
   ]
  },
  {
   "cell_type": "code",
   "execution_count": 124,
   "id": "487d3f50",
   "metadata": {},
   "outputs": [
    {
     "name": "stderr",
     "output_type": "stream",
     "text": [
      "C:\\Users\\vivek.kishore\\AppData\\Local\\Temp\\ipykernel_924\\2994285086.py:37: FutureWarning: The default value of numeric_only in DataFrame.corr is deprecated. In a future version, it will default to False. Select only valid columns or specify the value of numeric_only to silence this warning.\n",
      "  test_df1.corr()\n"
     ]
    },
    {
     "data": {
      "text/html": [
       "<div>\n",
       "<style scoped>\n",
       "    .dataframe tbody tr th:only-of-type {\n",
       "        vertical-align: middle;\n",
       "    }\n",
       "\n",
       "    .dataframe tbody tr th {\n",
       "        vertical-align: top;\n",
       "    }\n",
       "\n",
       "    .dataframe thead th {\n",
       "        text-align: right;\n",
       "    }\n",
       "</style>\n",
       "<table border=\"1\" class=\"dataframe\">\n",
       "  <thead>\n",
       "    <tr style=\"text-align: right;\">\n",
       "      <th></th>\n",
       "      <th>ProductID</th>\n",
       "      <th>Price</th>\n",
       "      <th>No of Products</th>\n",
       "    </tr>\n",
       "  </thead>\n",
       "  <tbody>\n",
       "    <tr>\n",
       "      <th>ProductID</th>\n",
       "      <td>1.000000</td>\n",
       "      <td>-0.627622</td>\n",
       "      <td>0.870572</td>\n",
       "    </tr>\n",
       "    <tr>\n",
       "      <th>Price</th>\n",
       "      <td>-0.627622</td>\n",
       "      <td>1.000000</td>\n",
       "      <td>-0.890895</td>\n",
       "    </tr>\n",
       "    <tr>\n",
       "      <th>No of Products</th>\n",
       "      <td>0.870572</td>\n",
       "      <td>-0.890895</td>\n",
       "      <td>1.000000</td>\n",
       "    </tr>\n",
       "  </tbody>\n",
       "</table>\n",
       "</div>"
      ],
      "text/plain": [
       "                ProductID     Price  No of Products\n",
       "ProductID        1.000000 -0.627622        0.870572\n",
       "Price           -0.627622  1.000000       -0.890895\n",
       "No of Products   0.870572 -0.890895        1.000000"
      ]
     },
     "execution_count": 124,
     "metadata": {},
     "output_type": "execute_result"
    }
   ],
   "source": [
    "import numpy\n",
    "import pandas\n",
    "test_df=pandas.DataFrame({'Names':['Ram','Shyam']})\n",
    "# test_df.values\n",
    "test_df1=pandas.DataFrame({'ProductID':[1,2,3,4],'ProductName':['LEDTV','Printer','Split AC','Microwave'],'Cost':[32990,\t\n",
    "5990,32050,12670],'ShippingLocation':['Delhi','Delhi','Pune','Mumbai'],'SellerName':['ABC Pvt',\t\n",
    "'ABC Pvt','XY Corp','PQ Corp']})\n",
    "# print(test_df1)\n",
    "# test_df1[['ShippingLocation','SellerName']]\n",
    "# test_df1.iloc[[2,3]]   #- one row value is coming as series, more than one as DataFrame\n",
    "# test_df1.iloc[:,:4]\n",
    "\n",
    "# test_df1=test_df1.set_index('ProductName')\n",
    "\n",
    "# # test_df1\n",
    "# test_df1.loc['LEDTV']\n",
    "[test_df1['Cost']>30000]\n",
    "test_df1[test_df1['Cost']>30000]\n",
    "# test_df1[(test_df1['Cost']>=30000) | (test_df1['ShippingLocation']=='Delhi') ]\n",
    "\n",
    "test_df1[~(test_df1['Cost']>30000)]\n",
    "\n",
    "#renaming of columns\n",
    "test_df1=test_df1.rename(columns={'Cost':'Price','ShippingLocation':'Destination'})\n",
    "\n",
    "test_df1\n",
    "\n",
    "test_df1['No of Products']=[2,6,4,7]\n",
    "\n",
    "test_df1=test_df1.replace(2,3)\n",
    "test_df1\n",
    "\n",
    "# test_df2=test_df1.groupby('SellerName')\n",
    "\n",
    "# regiment_preScore =test_df1.groupby(['SellerName','Destination']).count() # need an aggregator for output of data\n",
    "\n",
    "test_df1.corr()\n"
   ]
  },
  {
   "cell_type": "code",
   "execution_count": null,
   "id": "63ec0ffa",
   "metadata": {},
   "outputs": [],
   "source": []
  }
 ],
 "metadata": {
  "kernelspec": {
   "display_name": "Python 3 (ipykernel)",
   "language": "python",
   "name": "python3"
  },
  "language_info": {
   "codemirror_mode": {
    "name": "ipython",
    "version": 3
   },
   "file_extension": ".py",
   "mimetype": "text/x-python",
   "name": "python",
   "nbconvert_exporter": "python",
   "pygments_lexer": "ipython3",
   "version": "3.9.13"
  }
 },
 "nbformat": 4,
 "nbformat_minor": 5
}
