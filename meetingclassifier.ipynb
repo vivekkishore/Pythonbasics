{
  "nbformat": 4,
  "nbformat_minor": 0,
  "metadata": {
    "colab": {
      "provenance": [],
      "authorship_tag": "ABX9TyPmdzIpAFv8O/j8xuinaHnK",
      "include_colab_link": true
    },
    "kernelspec": {
      "name": "python3",
      "display_name": "Python 3"
    },
    "language_info": {
      "name": "python"
    }
  },
  "cells": [
    {
      "cell_type": "markdown",
      "metadata": {
        "id": "view-in-github",
        "colab_type": "text"
      },
      "source": [
        "<a href=\"https://colab.research.google.com/github/vivekkishore/Pythonbasics/blob/main/meetingclassifier.ipynb\" target=\"_parent\"><img src=\"https://colab.research.google.com/assets/colab-badge.svg\" alt=\"Open In Colab\"/></a>"
      ]
    },
    {
      "cell_type": "markdown",
      "source": [
        "###Data Preprocessing"
      ],
      "metadata": {
        "id": "9rxJhjkTQHOF"
      }
    },
    {
      "cell_type": "code",
      "execution_count": 13,
      "metadata": {
        "id": "eswrQj1wP0V_",
        "outputId": "3f48b832-eab5-40c4-f1c3-d89e7ffec862",
        "colab": {
          "base_uri": "https://localhost:8080/"
        }
      },
      "outputs": [
        {
          "output_type": "execute_result",
          "data": {
            "text/plain": [
              "0    New Digital Content Form discussion, In the ca...\n",
              "1    migration from Shibboleth to SAML, We will dis...\n",
              "2    GLR Discussion, Could we meet for 30 minutes t...\n",
              "3    Discussion on SSO progress, Scheduling this ca...\n",
              "4    Learn to balance your ideas using value with F...\n",
              "Name: meeting details, dtype: object"
            ]
          },
          "metadata": {},
          "execution_count": 13
        }
      ],
      "source": [
        "# import pandas as pd\n",
        "# import numpy as np\n",
        "# import seaborn\n",
        "# import sklearn\n",
        "# import matplotlib.pyplot as plt\n",
        "# %matplotlib inline\n",
        "# from pylab import rcParams\n",
        "# rcParams['figure.figsize'] = 10, 8\n",
        "# from sklearn.model_selection import train_test_split\n",
        "# from sklearn.preprocessing import StandardScaler\n",
        "# from sklearn import preprocessing\n",
        "# from sklearn.ensemble import RandomForestClassifier\n",
        "# from sklearn import tree\n",
        "# from sklearn.naive_bayes import GaussianNB\n",
        "# from sklearn.metrics import classification_report,confusion_matrix, roc_auc_score, accuracy_score\n",
        "# import warnings\n",
        "# warnings.filterwarnings('ignore')\n",
        "# from sklearn.feature_extraction.text import TfidfVectorizer\n",
        "# from sklearn.feature_extraction.text import TfidfTransformer\n",
        "# from sklearn.naive_bayes import MultinomialNB\n",
        "# from sklearn.feature_extraction.text import CountVectorizer\n",
        "# import re\n",
        "# df=pd.read_excel('meetingtype.xlsx')\n",
        "# df.head()\n",
        "# X=df['meeting details']\n",
        "# Y=df['meeting type']\n",
        "X.head()\n"
      ]
    },
    {
      "cell_type": "code",
      "source": [],
      "metadata": {
        "id": "26YxpAL0hqUu"
      },
      "execution_count": null,
      "outputs": []
    },
    {
      "cell_type": "code",
      "source": [],
      "metadata": {
        "id": "JMc5HoSwi2ac"
      },
      "execution_count": null,
      "outputs": []
    },
    {
      "cell_type": "code",
      "source": [],
      "metadata": {
        "id": "ciFfrXRQi2dw"
      },
      "execution_count": null,
      "outputs": []
    },
    {
      "cell_type": "code",
      "source": [],
      "metadata": {
        "id": "L0tiF080hqXp"
      },
      "execution_count": null,
      "outputs": []
    },
    {
      "cell_type": "code",
      "source": [],
      "metadata": {
        "id": "_EZ0ic55hqbN"
      },
      "execution_count": null,
      "outputs": []
    }
  ]
}