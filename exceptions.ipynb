{
 "cells": [
  {
   "cell_type": "code",
   "execution_count": 61,
   "id": "b8e75890",
   "metadata": {},
   "outputs": [
    {
     "name": "stdout",
     "output_type": "stream",
     "text": [
      "This is type error ('can only concatenate str (not \"int\") to str',)\n",
      "This code will run everytime\n"
     ]
    }
   ],
   "source": [
    "#try except finally block\n",
    "try:\n",
    "    answer = 'true'+5\n",
    "    print(answer)\n",
    "except TypeError as te:\n",
    "    print(\"This is type error\",te.args)\n",
    "\n",
    "else:\n",
    "    print(\"Code ran successfully\")\n",
    "finally:\n",
    "    print(\"This code will run everytime\")"
   ]
  },
  {
   "cell_type": "code",
   "execution_count": 20,
   "id": "c9398177",
   "metadata": {},
   "outputs": [
    {
     "name": "stdout",
     "output_type": "stream",
     "text": [
      "OOPS division Error occured! division by zero\n",
      "Argument: ('division by zero',)\n",
      "This code will run everytime\n"
     ]
    }
   ],
   "source": [
    "#zero division error demo\n",
    "try:\n",
    "    answer = 20/0\n",
    "    print(answer)\n",
    "except TypeError as te:\n",
    "    print(\"OOPS Type Error occured!\",te)\n",
    "    print(\"Argument:\",te.args)\n",
    "except ZeroDivisionError as zde:\n",
    "    print(\"OOPS division Error occured!\",zde)\n",
    "    print(\"Argument:\",zde.args)\n",
    "except NameError as ne:\n",
    "    print(\"OOPS Name Error occured!\",ne)\n",
    "    print(\"Argument:\",ne.args)\n",
    "except (BaseException):\n",
    "    print(\"Specific error not available\")\n",
    "except:\n",
    "    print(\"Nothing worked\")\n",
    "else:\n",
    "    print(\"Code ran successfully\")\n",
    "finally:\n",
    "    print(\"This code will run everytime\")"
   ]
  },
  {
   "cell_type": "code",
   "execution_count": 22,
   "id": "aa0c427a",
   "metadata": {},
   "outputs": [
    {
     "name": "stdout",
     "output_type": "stream",
     "text": [
      "OOPS Type Error occured! unsupported operand type(s) for /: 'int' and 'type'\n",
      "Argument: (\"unsupported operand type(s) for /: 'int' and 'type'\",)\n",
      "This code will run everytime\n"
     ]
    }
   ],
   "source": [
    "#type error demo\n",
    "try:\n",
    "    answer = 20/int\n",
    "    print(answer)\n",
    "except TypeError as te:\n",
    "    print(\"OOPS Type Error occured!\",te)\n",
    "    print(\"Argument:\",te.args)\n",
    "except ZeroDivisionError as zde:\n",
    "    print(\"OOPS division Error occured!\",zde)\n",
    "    print(\"Argument:\",zde.args)\n",
    "except NameError as ne:\n",
    "    print(\"OOPS Name Error occured!\",ne)\n",
    "    print(\"Argument:\",ne.args)\n",
    "except (BaseException):\n",
    "    print(\"Specific error not available\")\n",
    "except:\n",
    "    print(\"Nothing worked\")\n",
    "else:\n",
    "    print(\"Code ran successfully\")\n",
    "finally:\n",
    "    print(\"This code will run everytime\")"
   ]
  },
  {
   "cell_type": "code",
   "execution_count": 28,
   "id": "9674a638",
   "metadata": {},
   "outputs": [
    {
     "name": "stdout",
     "output_type": "stream",
     "text": [
      "OOPS Name Error occured! name 'answer1' is not defined\n",
      "Argument: (\"name 'answer1' is not defined\",)\n",
      "This code will run everytime\n"
     ]
    }
   ],
   "source": [
    "#Name error demo\n",
    "try:\n",
    "    answer = 'integration'+'ram'\n",
    "    print(answer1)\n",
    "except TypeError as te:\n",
    "    print(\"OOPS Type Error occured!\",te)\n",
    "    print(\"Argument:\",te.args)\n",
    "except NameError as ne:\n",
    "    print(\"OOPS Name Error occured!\",ne)\n",
    "    print(\"Argument:\",ne.args)\n",
    "except ZeroDivisionError as zde:\n",
    "    print(\"OOPS division Error occured!\",zde)\n",
    "    print(\"Argument:\",zde.args)\n",
    "except (BaseException):\n",
    "    print(\"Specific error not available\")\n",
    "except:\n",
    "    print(\"Nothing worked\")\n",
    "else:\n",
    "    print(\"Code ran successfully\")\n",
    "finally:\n",
    "    print(\"This code will run everytime\")"
   ]
  },
  {
   "cell_type": "code",
   "execution_count": 51,
   "id": "bd6e547c",
   "metadata": {
    "scrolled": true
   },
   "outputs": [
    {
     "name": "stdout",
     "output_type": "stream",
     "text": [
      "Exception raised ('Ram', 'Shyam', 'Sita', 'Gita')\n",
      "Type of Exception <class 'Exception'>\n",
      "Exception arguments: ('Ram', 'Shyam', 'Sita', 'Gita')\n",
      "cause None\n",
      "Out of try/Except block\n"
     ]
    }
   ],
   "source": [
    "#How to raise exception\n",
    "\n",
    "try:\n",
    "    raise Exception(\"Ram\",\"Shyam\",\"Sita\",\"Gita\")\n",
    "except Exception as exe:\n",
    "    print(\"Exception raised\", exe)\n",
    "    print(\"Type of Exception\",type(exe))\n",
    "    print(\"Exception arguments:\", exe.args)\n",
    "    print(\"cause\",exe.__cause__)\n",
    "else:\n",
    "    print(\"Code ran successfully\")\n",
    "finally:\n",
    "    print(\"Out of try/Except block\")\n"
   ]
  },
  {
   "cell_type": "code",
   "execution_count": 74,
   "id": "fc4a8435",
   "metadata": {},
   "outputs": [
    {
     "name": "stdout",
     "output_type": "stream",
     "text": [
      "Type error  ('Type error has been raised',)\n",
      "('Type error has been raised',)\n",
      "in finally block which runs every time\n"
     ]
    }
   ],
   "source": [
    "#function to raise exception\n",
    "def excpn_rs_fn(switch):\n",
    "    if switch==1:\n",
    "        raise TypeError('Type error has been raised')\n",
    "    if switch==2:\n",
    "        raise NameError(\"Name Error has been raised\")\n",
    "    if switch==3:\n",
    "        raise ValueError(\"Value Error has been raised\")\n",
    "    else:\n",
    "        print(\"No exceptions found\")\n",
    "try:\n",
    "    excpn_rs_fn(1)\n",
    "except NameError as ne:\n",
    "    print(\"Name error \",ne.args)\n",
    "except TypeError as te:\n",
    "    print(\"Type error \",te.args)\n",
    "    print(te.args)\n",
    "except ValueError as ve:\n",
    "    print(\"value error\", ve.args)\n",
    "except Exception:\n",
    "    print(\"No specific exception\")\n",
    "finally:\n",
    "    print(\"in finally block which runs every time\")\n"
   ]
  },
  {
   "cell_type": "code",
   "execution_count": null,
   "id": "853b2910",
   "metadata": {},
   "outputs": [],
   "source": []
  },
  {
   "cell_type": "code",
   "execution_count": null,
   "id": "69ea3ef8",
   "metadata": {},
   "outputs": [],
   "source": []
  }
 ],
 "metadata": {
  "kernelspec": {
   "display_name": "Python 3 (ipykernel)",
   "language": "python",
   "name": "python3"
  },
  "language_info": {
   "codemirror_mode": {
    "name": "ipython",
    "version": 3
   },
   "file_extension": ".py",
   "mimetype": "text/x-python",
   "name": "python",
   "nbconvert_exporter": "python",
   "pygments_lexer": "ipython3",
   "version": "3.9.13"
  }
 },
 "nbformat": 4,
 "nbformat_minor": 5
}
}
